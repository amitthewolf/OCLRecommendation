{
  "nbformat": 4,
  "nbformat_minor": 0,
  "metadata": {
    "colab": {
      "name": "domainClassification_script.ipynb",
      "provenance": [],
      "collapsed_sections": [],
      "toc_visible": true
    },
    "kernelspec": {
      "display_name": "Python 3",
      "language": "python",
      "name": "python3"
    },
    "language_info": {
      "codemirror_mode": {
        "name": "ipython",
        "version": 3
      },
      "file_extension": ".py",
      "mimetype": "text/x-python",
      "name": "python",
      "nbconvert_exporter": "python",
      "pygments_lexer": "ipython3",
      "version": "3.7.9"
    }
  },
  "cells": [
    {
      "cell_type": "code",
      "metadata": {
        "colab": {
          "base_uri": "https://localhost:8080/"
        },
        "id": "K7yeAWL9RZ5R",
        "outputId": "a5b2cf9b-8156-4905-b2b2-aa7d09fceab2"
      },
      "source": [
        "import numpy as np\n",
        "from gensim.models import Word2Vec\n",
        "from nltk.cluster import KMeansClusterer\n",
        "from sklearn.cluster import KMeans\n",
        "import matplotlib.pyplot as plt\n",
        "from sklearn import cluster\n",
        "from sklearn import metrics\n",
        "import matplotlib as mpl\n",
        "\n",
        "import nltk\n",
        "nltk.download('wordnet')\n",
        "nltk.download('stopwords')\n",
        "from nltk.corpus import stopwords  \n",
        "from nltk.tokenize import word_tokenize\n",
        "from nltk.stem import WordNetLemmatizer \n",
        "\n",
        "import csv\n",
        "from sklearn.decomposition import PCA\n",
        "import colorsys\n",
        "import sys\n",
        "\n",
        "lemmatizer = WordNetLemmatizer() \n"
      ],
      "execution_count": 101,
      "outputs": [
        {
          "output_type": "stream",
          "text": [
            "[nltk_data] Downloading package wordnet to /root/nltk_data...\n",
            "[nltk_data]   Package wordnet is already up-to-date!\n",
            "[nltk_data] Downloading package stopwords to /root/nltk_data...\n",
            "[nltk_data]   Package stopwords is already up-to-date!\n"
          ],
          "name": "stdout"
        }
      ]
    },
    {
      "cell_type": "code",
      "metadata": {
        "colab": {
          "base_uri": "https://localhost:8080/"
        },
        "id": "eOMmYjwglc1N",
        "outputId": "8e852c39-65f8-4ab9-e526-c24a629fe013"
      },
      "source": [
        "from google.colab import drive\r\n",
        "drive.mount('/content/drive')"
      ],
      "execution_count": 102,
      "outputs": [
        {
          "output_type": "stream",
          "text": [
            "Drive already mounted at /content/drive; to attempt to forcibly remount, call drive.mount(\"/content/drive\", force_remount=True).\n"
          ],
          "name": "stdout"
        }
      ]
    },
    {
      "cell_type": "markdown",
      "metadata": {
        "id": "T2wZ7Mp-HLXi"
      },
      "source": [
        "##Load google pre-trained model"
      ]
    },
    {
      "cell_type": "code",
      "metadata": {
        "id": "BYp_J1moFqtS",
        "colab": {
          "base_uri": "https://localhost:8080/"
        },
        "outputId": "cba7f09c-80f1-471e-f844-a04498d2299c"
      },
      "source": [
        "import os\r\n",
        "from gensim.models import KeyedVectors\r\n",
        "\r\n",
        "!wget -P /root/input/ -c \"https://s3.amazonaws.com/dl4j-distribution/GoogleNews-vectors-negative300.bin.gz\"\r\n",
        "\r\n",
        "filename = '/root/input/GoogleNews-vectors-negative300.bin.gz'\r\n",
        "model = KeyedVectors.load_word2vec_format(filename, binary=True)"
      ],
      "execution_count": 103,
      "outputs": [
        {
          "output_type": "stream",
          "text": [
            "--2021-01-07 14:16:45--  https://s3.amazonaws.com/dl4j-distribution/GoogleNews-vectors-negative300.bin.gz\n",
            "Resolving s3.amazonaws.com (s3.amazonaws.com)... 52.216.130.29\n",
            "Connecting to s3.amazonaws.com (s3.amazonaws.com)|52.216.130.29|:443... connected.\n",
            "HTTP request sent, awaiting response... 416 Requested Range Not Satisfiable\n",
            "\n",
            "    The file is already fully retrieved; nothing to do.\n",
            "\n"
          ],
          "name": "stdout"
        }
      ]
    },
    {
      "cell_type": "code",
      "metadata": {
        "id": "yIsOjMO0O-IV"
      },
      "source": [
        "MODELS_NUM = 318\r\n",
        "flag = \"MEAN\""
      ],
      "execution_count": 104,
      "outputs": []
    },
    {
      "cell_type": "markdown",
      "metadata": {
        "id": "vn0YEll4IS2s"
      },
      "source": [
        "##Pre-procccessing"
      ]
    },
    {
      "cell_type": "code",
      "metadata": {
        "id": "n3y9OPR-IR8B"
      },
      "source": [
        "corpus = [] # objet names\r\n",
        "models_word_vectors = [[] for i in range(MODELS_NUM)] # list of lists, each conatains model object names in array\r\n",
        "stop_words = set(stopwords.words('english'))  \r\n",
        "\r\n",
        "with open('/content/drive/MyDrive/parsedObjectNames.txt', 'r') as fd:\r\n",
        "    reader = csv.reader(fd)\r\n",
        "    for row in reader:\r\n",
        "      if row is None:\r\n",
        "        pass\r\n",
        "      row = row[0].split(\"#\")\r\n",
        "      model_id = row[0]\r\n",
        "      object_name = row[1].lower()\r\n",
        "      #corpus.append(object_name)\r\n",
        "      if int(model_id) == MODELS_NUM + 1:\r\n",
        "        break\r\n",
        "      else:\r\n",
        "        models_word_vectors[int(model_id)-1].append(object_name)\r\n"
      ],
      "execution_count": 105,
      "outputs": []
    },
    {
      "cell_type": "markdown",
      "metadata": {
        "id": "4MgX3GNbH3N9"
      },
      "source": [
        "## Use word-embedding to get word vectors of each word in each model"
      ]
    },
    {
      "cell_type": "code",
      "metadata": {
        "id": "g92Il2umu4Cv"
      },
      "source": [
        "from nltk.tokenize import WordPunctTokenizer\r\n",
        "from nltk.corpus import wordnet\r\n",
        "\r\n",
        "def removeNonDicWords(word_list):\r\n",
        "  wpt = WordPunctTokenizer()\r\n",
        "  only_recognized_words = []\r\n",
        "\r\n",
        "  for s in word_list:\r\n",
        "      tokens = wpt.tokenize(s)\r\n",
        "      if tokens:  # check if empty string\r\n",
        "          for t in tokens:\r\n",
        "              if wordnet.synsets(t):\r\n",
        "                  only_recognized_words.append(t)  # only keep recognized words\r\n",
        "  return only_recognized_words"
      ],
      "execution_count": 106,
      "outputs": []
    },
    {
      "cell_type": "code",
      "metadata": {
        "id": "1w858158FGmb"
      },
      "source": [
        "def splitObjectName(object_name):\r\n",
        "    words = []\r\n",
        "    splitted = object_name.split() # ex. ['Behavior','Tree']\r\n",
        "    for s in splitted:\r\n",
        "      if len(s) > 1:\r\n",
        "        words.append(s)\r\n",
        "    return words\r\n",
        "\r\n",
        "def getWordListForModel(object_names_list):\r\n",
        "  model_words = [] \r\n",
        "  for object_name in object_names_list:\r\n",
        "    words_within_object_name = splitObjectName(object_name)\r\n",
        "    for splitted_name in words_within_object_name:\r\n",
        "      if splitted_name in model.wv.vocab and not splitted_name in stop_words:\r\n",
        "        model_words.append(lemmatizer.lemmatize(splitted_name))\r\n",
        "  \r\n",
        "  model_words = removeNonDicWords(model_words)\r\n",
        "  return list(set(model_words))\r\n",
        "\r\n",
        "def getWordVectorsForModel(model_word_list):\r\n",
        "  model_words_vectors = []\r\n",
        "  for word in model_word_list:\r\n",
        "    model_words_vectors.append(model[word])\r\n",
        "  return model_words_vectors\r\n",
        "\r\n",
        "def getMeanWordVectors(model_words_vectors):\r\n",
        "    model_mean_vectors = []\r\n",
        "    temp = []\r\n",
        "    for embedded_vector in model_words_vectors:\r\n",
        "      temp.append(embedded_vector)\r\n",
        "    temp = np.array(temp)\r\n",
        "    return temp.mean(axis=0)\r\n",
        "\r\n",
        "\r\n"
      ],
      "execution_count": 107,
      "outputs": []
    },
    {
      "cell_type": "code",
      "metadata": {
        "colab": {
          "base_uri": "https://localhost:8080/"
        },
        "id": "jhy40KMhXL5p",
        "outputId": "ffda2160-5f0c-480d-e05b-f8698fb10a52"
      },
      "source": [
        "temp = models_word_vectors[0]\r\n",
        "temp.append('tree')\r\n",
        "temp.append('rocks')\r\n",
        "temp.append('x2')\r\n",
        "temp.append(\"dfsfbk\")\r\n",
        "temp = getWordListForModel(temp)\r\n",
        "temp"
      ],
      "execution_count": 108,
      "outputs": [
        {
          "output_type": "stream",
          "text": [
            "/usr/local/lib/python3.6/dist-packages/ipykernel_launcher.py:14: DeprecationWarning: Call to deprecated `wv` (Attribute will be removed in 4.0.0, use self instead).\n",
            "  \n"
          ],
          "name": "stderr"
        },
        {
          "output_type": "execute_result",
          "data": {
            "text/plain": [
              "['element', 'behavior', 'rock', 'named', 'specification', 'tree']"
            ]
          },
          "metadata": {
            "tags": []
          },
          "execution_count": 108
        }
      ]
    },
    {
      "cell_type": "code",
      "metadata": {
        "colab": {
          "base_uri": "https://localhost:8080/"
        },
        "id": "_Y6GfvN5LjjT",
        "outputId": "abfa02cf-6fb1-4c0c-9bd9-ef3ce28c7848"
      },
      "source": [
        "models_mean_vectors = [[] for i in range(MODELS_NUM)]\r\n",
        "temp_models = []\r\n",
        "\r\n",
        "for idx,m in enumerate(models_word_vectors,1):\r\n",
        "  model_words = getWordListForModel(m)\r\n",
        "  temp_models.append(model_words)\r\n",
        "  model_words_vectors = getWordVectorsForModel(model_words)\r\n",
        "  # if idx == 1 : print(model_words_vectors)\r\n",
        "  model_mean_vectors = getMeanWordVectors(model_words_vectors)\r\n",
        "  if isinstance(model_mean_vectors,np.float64):\r\n",
        "    temp = np.zeros(300)\r\n",
        "    models_mean_vectors[idx-1] =  temp\r\n",
        "  # if idx == 1 : print(model_mean_vectors)\r\n",
        "  else:\r\n",
        "    models_mean_vectors[idx-1] =  model_mean_vectors"
      ],
      "execution_count": 109,
      "outputs": [
        {
          "output_type": "stream",
          "text": [
            "/usr/local/lib/python3.6/dist-packages/ipykernel_launcher.py:14: DeprecationWarning: Call to deprecated `wv` (Attribute will be removed in 4.0.0, use self instead).\n",
            "  \n",
            "/usr/local/lib/python3.6/dist-packages/ipykernel_launcher.py:32: RuntimeWarning: Mean of empty slice.\n",
            "/usr/local/lib/python3.6/dist-packages/numpy/core/_methods.py:170: RuntimeWarning: invalid value encountered in double_scalars\n",
            "  ret = ret.dtype.type(ret / rcount)\n"
          ],
          "name": "stderr"
        }
      ]
    },
    {
      "cell_type": "code",
      "metadata": {
        "id": "abHgv7XuSr_b"
      },
      "source": [
        "\r\n",
        "#create vector for each MODEL based OBJECTS vectors mean\r\n",
        "norm = 0 # number of objects with valid names\r\n",
        "no_name = 0 # number of models with no objects / no ojects with valid names\r\n",
        "counter = 0 # number of objects with valid names\r\n",
        "models_sum_vectors = [] # array of vectors, each one represnts a model\r\n",
        "\r\n",
        "for m in models_word_vectors:\r\n",
        "  model_words_list = [] # array of vectors, init after each model\r\n",
        "  for word in m: # iterating over each object name, helps in case it is in the format of 'Behaviour Tree'\r\n",
        "    splitted = word.split(\" \") # ex. ['Behavior','Tree']\r\n",
        "    try:\r\n",
        "      model_words_list += [ model[w] for w in splitted ] # add a vector to the array\r\n",
        "      norm += 1\r\n",
        "    except:\r\n",
        "      counter += 1\r\n",
        "      norm += 1\r\n",
        "  if len(model_words_list) != 0:\r\n",
        "    result_vec = 0\r\n",
        "    for vec in model_words_list:\r\n",
        "      result_vec = result_vec + vec\r\n",
        "    models_sum_vectors.append(result_vec) # add a vector representation of a model to models_vec array\r\n",
        "  else:\r\n",
        "    no_name += 1\r\n",
        "\r\n",
        "x = np.array(models_sum_vectors)\r\n",
        "y = np.array(models_mean_vectors)"
      ],
      "execution_count": 110,
      "outputs": []
    },
    {
      "cell_type": "markdown",
      "metadata": {
        "id": "0073lavOQNdd"
      },
      "source": [
        "#Clustering using KMEANS\r\n",
        "\r\n",
        "\r\n"
      ]
    },
    {
      "cell_type": "code",
      "metadata": {
        "colab": {
          "base_uri": "https://localhost:8080/"
        },
        "id": "R26GeYU6wDgu",
        "outputId": "0dead179-b483-472d-e2a8-185551800982"
      },
      "source": [
        "sil = {}\r\n",
        "k_means_data = {}\r\n",
        "kmax = 10\r\n",
        "\r\n",
        "for k in range(2, kmax+1):\r\n",
        "  kmeans = KMeans(n_clusters = k).fit(y)\r\n",
        "  labels = kmeans.labels_ \r\n",
        "  centroids = kmeans.cluster_centers_\r\n",
        "  k_means_data[k] = { 'kmeans' : kmeans, 'labels':labels, 'centroids': centroids }\r\n",
        "  silhouette_score = metrics.silhouette_score(y, labels, metric='euclidean')\r\n",
        "  sil[k] = silhouette_score\r\n",
        "\r\n",
        "best_k = max(sil, key=sil.get)\r\n",
        "labels = k_means_data[best_k]['labels']\r\n",
        "centroids = k_means_data[best_k]['centroids']\r\n",
        "k_means = k_means_data[best_k]['kmeans']\r\n",
        "\r\n",
        "print(\"Optimal number of clusters:\" , best_k)\r\n",
        "\r\n",
        "# for idx,label in enumerate(kmeans.labels_):\r\n",
        "#   print(\"Model {} is in : {}\".format(idx,label))\r\n"
      ],
      "execution_count": 111,
      "outputs": [
        {
          "output_type": "stream",
          "text": [
            "Optimal number of clusters: 2\n"
          ],
          "name": "stdout"
        }
      ]
    },
    {
      "cell_type": "markdown",
      "metadata": {
        "id": "qawf_ws7QQ6q"
      },
      "source": [
        "#Visualize K-Means\r\n"
      ]
    },
    {
      "cell_type": "code",
      "metadata": {
        "id": "m01ALH9MRZ5l",
        "colab": {
          "base_uri": "https://localhost:8080/",
          "height": 282
        },
        "outputId": "951760bd-c372-40f1-adb2-7376adc30042"
      },
      "source": [
        "for i in set(k_means.labels_):\n",
        "    index = k_means.labels_ == i\n",
        "    plt.plot(y[index,0], y[index,1], 'o')\n",
        "plt.scatter(centroids[:,0] , centroids[:,1] , s = 200, color = 'k')\n",
        "plt.legend()\n",
        "plt.show()"
      ],
      "execution_count": 112,
      "outputs": [
        {
          "output_type": "stream",
          "text": [
            "No handles with labels found to put in legend.\n"
          ],
          "name": "stderr"
        },
        {
          "output_type": "display_data",
          "data": {
            "image/png": "[encoded data removed]",
            "text/plain": [
              "<Figure size 432x288 with 1 Axes>"
            ]
          },
          "metadata": {
            "tags": [],
            "needs_background": "light"
          }
        }
      ]
    },
    {
      "cell_type": "markdown",
      "metadata": {
        "id": "cDzLPEj2lwYf"
      },
      "source": [
        "#Clustering using DBSCAN"
      ]
    },
    {
      "cell_type": "code",
      "metadata": {
        "id": "7bwd5AHEBGp9",
        "colab": {
          "base_uri": "https://localhost:8080/",
          "height": 265
        },
        "outputId": "21564c38-21e5-4f2f-f678-173801e00118"
      },
      "source": [
        "\r\n",
        "from sklearn.cluster import DBSCAN\r\n",
        "from sklearn.preprocessing import StandardScaler\r\n",
        "\r\n",
        "dbscan = DBSCAN(min_samples = 3,eps = 0.2)\r\n",
        "dbscan_clusters = dbscan.fit_predict(y)\r\n",
        "\r\n",
        "ctr = 0\r\n",
        "for label in dbscan_clusters:\r\n",
        "  if label == -1:\r\n",
        "    ctr+=1\r\n",
        "  \r\n",
        "#Remove Noise clusters\r\n",
        "y_filt = []\r\n",
        "rel_model_ids = []\r\n",
        "\r\n",
        "for model_id,label in enumerate(dbscan_clusters):\r\n",
        "  if label >= 0:\r\n",
        "    y_filt.append([y[model_id,0],y[model_id,1]])\r\n",
        "    rel_model_ids.append(model_id)\r\n",
        "\r\n",
        "new_clusters = np.delete(dbscan_clusters, np.where(dbscan_clusters == -1))\r\n",
        "y_filt = np.array(y_filt)\r\n",
        "\r\n",
        "clusters_found = len(set(new_clusters))\r\n",
        "\r\n",
        "legends = []\r\n",
        "for i in range(clusters_found):\r\n",
        "    legends.append('cluster{}'.format(i))\r\n",
        "\r\n",
        "\r\n",
        "for i in range(clusters_found):\r\n",
        "   plt.scatter(y_filt[:, 0], y_filt[:, 1], c=new_clusters, cmap=\"plasma\" ,\r\n",
        "               label= legends[i] + \" has {} points\".format(y_filt[:,0][new_clusters==i].shape[0]))\r\n",
        "\r\n",
        "plt.legend(loc='center left', bbox_to_anchor=(1, 0.5))\r\n",
        "\r\n",
        "\r\n",
        "# analyze results\r\n",
        "results = [[] for i in range(clusters_found)]\r\n",
        "\r\n",
        "for idx,i in enumerate(results):\r\n",
        "  results[idx] = []\r\n",
        "for idx in rel_model_ids:\r\n",
        "    model_cluster = dbscan_clusters[idx]\r\n",
        "    results[model_cluster].append((idx,temp_models[idx-1][:]))\r\n",
        "\r\n",
        "\r\n",
        "# print clustering results\r\n",
        "# for idx,models in enumerate(results):\r\n",
        "#   print ( '*' * 50)\r\n",
        "#   print(\"CLUSTER NUMBER : {}\".format(idx))\r\n",
        "#   print ( '*' * 50)\r\n",
        "\r\n",
        "#   for model_id,model_words in models:\r\n",
        "#     print(\"Model ID : {} \\n\".format(model_id))\r\n",
        "#     print(\"{} \\n\".format(model_words))\r\n",
        "\r\n",
        "\r\n"
      ],
      "execution_count": 150,
      "outputs": [
        {
          "output_type": "display_data",
          "data": {
            "image/png": "[encoded data removed]",
            "text/plain": [
              "<Figure size 432x288 with 1 Axes>"
            ]
          },
          "metadata": {
            "tags": [],
            "needs_background": "light"
          }
        }
      ]
    },
    {
      "cell_type": "code",
      "metadata": {
        "id": "Bgx5YxkOW62D"
      },
      "source": [
        ""
      ],
      "execution_count": 113,
      "outputs": []
    }
  ]
}